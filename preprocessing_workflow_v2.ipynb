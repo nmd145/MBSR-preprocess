{
 "cells": [
  {
   "cell_type": "markdown",
   "metadata": {},
   "source": [
    "# Import Library"
   ]
  },
  {
   "cell_type": "code",
   "execution_count": null,
   "metadata": {},
   "outputs": [],
   "source": [
    "import configparser\n",
    "from EEG import EEG\n",
    "from utils import *\n",
    "import numpy as np\n",
    "import mne\n",
    "import matplotlib\n",
    "# matplotlib.use('TKAgg')\n",
    "from matplotlib import pyplot as plt\n",
    "import matplotlib.transforms as mtransforms\n",
    "import json\n",
    "import sys\n",
    "import os\n",
    "import pandas as pd\n",
    "from datetime import datetime\n",
    "import joblib\n",
    "from emg_removal_experiment import detect_emg\n",
    "import random"
   ]
  },
  {
   "cell_type": "markdown",
   "metadata": {},
   "source": [
    "# Input (User Edits Here)"
   ]
  },
  {
   "cell_type": "code",
   "execution_count": null,
   "metadata": {},
   "outputs": [],
   "source": [
    "###Required\n",
    "    #id of the subject. Type: int. Ex: 'id_name = 1489'\n",
    "id_name = 'G07'\n",
    "###Optional\n",
    "    #Expected name of the ouput file. Default: 'None'\n",
    "        #None: autosave output with the format: 'id.html'. Overwrite file if running same ID again\n",
    "        #New:  autosave output with the format: 'id_timestamp.html'. Write a new file if running same ID again\n",
    "        #Type: str: save output with the expected name. Ex: \"eeg_processing_SinhNguyen\"\n",
    "ouput_name =''"
   ]
  },
  {
   "cell_type": "markdown",
   "metadata": {},
   "source": [
    "# Initialize Variables"
   ]
  },
  {
   "cell_type": "code",
   "execution_count": null,
   "metadata": {},
   "outputs": [],
   "source": [
    "config = configparser.ConfigParser()\n",
    "config.read(\"config.ini\")\n",
    "\n",
    "_WINDOW = int(config[\"CHUNK\"][\"WINDOW\"])\n",
    "N_COMP = 10\n",
    "# THRESHOLD = 0.263506042367534\n",
    "THRESHOLD = 0.32729012499342763\n",
    "N_SAMPLE = int(config[\"DEFAULT\"][\"N_SAMPLE_PER_SUBJECT\"])\n",
    "counter = 0"
   ]
  },
  {
   "cell_type": "markdown",
   "metadata": {},
   "source": [
    "# Read Raw Data & Visualize"
   ]
  },
  {
   "cell_type": "code",
   "execution_count": null,
   "metadata": {
    "scrolled": true
   },
   "outputs": [],
   "source": [
    "#read raw data\n",
    "path_edf=r\"C:\\Users\\ASUS\\Desktop\\New folder\\New folder\\stress-detection-master\\pipeline\\edf\\G07.edf\"\n",
    "path_stage= r\"C:\\Users\\ASUS\\Desktop\\New folder\\New folder\\stress-detection-master\\pipeline\\edf\\STAGE.csv\"\n",
    "eeg = EEG(path_edf=path_edf, path_stg=path_stage)\n",
    "diff_time = eeg.calibration_time"
   ]
  },
  {
   "cell_type": "code",
   "execution_count": null,
   "metadata": {},
   "outputs": [],
   "source": [
    "#plotting setting\n",
    "plt.rcParams[\"figure.figsize\"] = [10,10]"
   ]
  },
  {
   "cell_type": "code",
   "execution_count": null,
   "metadata": {},
   "outputs": [],
   "source": [
    "!pip list"
   ]
  },
  {
   "cell_type": "markdown",
   "metadata": {},
   "source": [
    "# Processing pipeline:"
   ]
  },
  {
   "cell_type": "markdown",
   "metadata": {},
   "source": [
    "## Workflow: Bandpass filtering -> Baseline correction -> EOG removal -> EMG removal"
   ]
  },
  {
   "cell_type": "markdown",
   "metadata": {},
   "source": [
    "### Bandpass filtering -> Baseline correction for Entire Data"
   ]
  },
  {
   "cell_type": "code",
   "execution_count": null,
   "metadata": {},
   "outputs": [],
   "source": [
    "# Apply bandpass filter\n",
    "eeg_bandpass = eeg.raw.copy()\n",
    "eeg_bandpass.apply_function(butter_bandpass_filter)\n",
    "\n",
    "# Apply baseline correction\n",
    "eeg_baseline = eeg_bandpass.copy()\n",
    "eeg_baseline.apply_function(baseline_calc)\n",
    "print(eeg.raw)\n",
    "print(eeg_baseline)"
   ]
  },
  {
   "cell_type": "markdown",
   "metadata": {},
   "source": [
    "### Get all Tasks after Bandpass + Baseline"
   ]
  },
  {
   "cell_type": "code",
   "execution_count": null,
   "metadata": {},
   "outputs": [],
   "source": [
    "def get_data(task,processed_eeg):\n",
    "    _min, _max = np.min(task)+ diff_time, np.max(task) + diff_time\n",
    "\n",
    "    # Get raw data\n",
    "    sample_raw = processed_eeg.copy().crop(_min, _max, include_tmax=False)\n",
    "    \n",
    "    return sample_raw.get_data().T\n",
    "\n",
    "#Concatenate data of all tasks\n",
    "task_0=get_data(eeg._tasks[0],eeg_baseline)\n",
    "task_1=get_data(eeg._tasks[1],eeg_baseline)\n",
    "task_2=get_data(eeg._tasks[2],eeg_baseline)\n",
    "task_data = np.concatenate((task_0, task_1, task_2), axis=0)\n",
    "print(task_data.shape)"
   ]
  },
  {
   "cell_type": "markdown",
   "metadata": {},
   "source": [
    "### Get random task chunk"
   ]
  },
  {
   "cell_type": "code",
   "execution_count": null,
   "metadata": {},
   "outputs": [],
   "source": [
    "##Use a.Tho's Coding\n",
    "def get_random_task_chunk(eeg,processed_eeg, window):\n",
    "    # Getting random chunk of data from raw signal\n",
    "    _chunk = random.choice(list(chunks(random.choice(eeg.tasks), window)))\n",
    "#     _chunk = random.choice(list(chunks(eeg.tasks[1], window)))\n",
    "    _min, _max = np.min(_chunk) + diff_time, np.max(_chunk) + diff_time\n",
    "\n",
    "    # Preprocessing\n",
    "    # Getting sample data\n",
    "#     sample_raw = eeg.raw.copy().crop(_min, _max, include_tmax=False).get_data().T\n",
    "    sample_raw = processed_eeg.copy().crop(_min, _max, include_tmax=False)\n",
    "\n",
    "    return sample_raw"
   ]
  },
  {
   "cell_type": "markdown",
   "metadata": {},
   "source": [
    "### Load classification models (eog & emg)"
   ]
  },
  {
   "cell_type": "code",
   "execution_count": null,
   "metadata": {
    "scrolled": true
   },
   "outputs": [],
   "source": [
    "###Load classification models\n",
    "    #load eog model\n",
    "clf_eog = joblib.load(r\"C:\\Users\\ASUS\\Desktop\\New folder\\New folder\\stress-detection-master\\pipeline\\model\\emg_classifier_20200814.joblib\")\n",
    "    #load emg model\n",
    "clf_emg = joblib.load(r\"C:\\Users\\ASUS\\Desktop\\New folder\\New folder\\stress-detection-master\\pipeline\\model\\eog_classifier_v2.joblib\")"
   ]
  },
  {
   "cell_type": "markdown",
   "metadata": {},
   "source": [
    "### Get EOG chunks"
   ]
  },
  {
   "cell_type": "code",
   "execution_count": null,
   "metadata": {},
   "outputs": [],
   "source": [
    "eeg_remove_eog = eeg_baseline.copy()"
   ]
  },
  {
   "cell_type": "markdown",
   "metadata": {},
   "source": [
    "### Get EMG chunks"
   ]
  },
  {
   "cell_type": "markdown",
   "metadata": {},
   "source": [
    "### Process for each task of the subject, plot for each chunk (default 15s) of each task"
   ]
  },
  {
   "cell_type": "code",
   "execution_count": null,
   "metadata": {
    "scrolled": false
   },
   "outputs": [],
   "source": [
    "i=0\n",
    "for task in eeg._tasks:\n",
    "    i+=1\n",
    "    for idx, chunk in enumerate(chunks(task, _WINDOW)):\n",
    "\n",
    "        if counter > N_SAMPLE:\n",
    "            break\n",
    "\n",
    "        _min, _max = np.min(chunk), np.max(chunk)\n",
    "\n",
    "        # Get raw data\n",
    "        sample_raw = eeg.raw.copy().crop(_min, _max, include_tmax=False)\n",
    "        #Plot raw\n",
    "        raw = sample_raw.get_data().T\n",
    "        plot_raw(raw, eeg, title=f\"Task{i}_Chunk{idx}_Raw\")\n",
    "        \n",
    "        # Apply bandpass filter\n",
    "        sample_raw_bandpass = sample_raw.copy()\n",
    "        sample_raw_bandpass.apply_function(butter_bandpass_filter)\n",
    "\n",
    "        # Apply baseline correction\n",
    "        sample_raw_baseline = sample_raw_bandpass.copy()\n",
    "        sample_raw_baseline.apply_function(baseline_calc)\n",
    "\n",
    "        #Plot After Bandpass + Baseline\n",
    "        baseline = sample_raw_baseline.get_data().T\n",
    "        plot_raw(baseline, eeg, title=f\"Task{i}_Chunk{idx}_BandPass_Baseline\")\n",
    "        \n",
    "        #Detect EOG\n",
    "        ica, sample_raw_removed_eog = ica_pipe(sample_raw_baseline, clf_eog)\n",
    "        #Plot After Detecting EOG\n",
    "        eog_removal = sample_raw_removed_eog.get_data().T\n",
    "        plot_components(c1, N_COMP,'ICA comp')\n",
    "        plot_raw(eog_removal, eeg, title=f\"Task{i}_Chunk{idx}_EOG_Removal\")\n",
    "        plot_psd(raw, eog_removal, eeg, figsize=(25, 60), title=\"PSD plots after EOG removal\")\n",
    "        \n",
    "        # Detect EMG\n",
    "        cca, c1, list_of_emg, list_of_probs = detect_emg(eog_removal, clf_emg, N_COMP)\n",
    "        if list_of_emg is not None and len(list_of_emg) > 0:\n",
    "            # Plot CCA components\n",
    "            plot_components(c1, N_COMP)\n",
    "            # Zeroing out the chosen components\n",
    "            print(\"Found EMG in the following components: {}\".format(str(list_of_emg).strip('[]')))\n",
    "            print(\"Corresponding probabilities: {}\".format(str(list_of_probs).strip('[]')))\n",
    "            # print(list_of_probs)\n",
    "            c1[:, list_of_emg] = 0\n",
    "            corrected = cca.inverse_transform(c1)\n",
    "\n",
    "            # Plot the results\n",
    "            plot_raw(corrected, eeg, title=f\"Task{i}_Chunk{idx}_EMG-removed\")\n",
    "            plot_psd(raw, corrected, eeg, figsize=(25, 60), title=\"PSD plots after EMG removal\")\n",
    "\n",
    "            # plot_psd(corrected, eeg, figsize=(25, 60), title=\"PSD - EMG-removed\")\n",
    "        else:\n",
    "            # Plot CCA components\n",
    "            plot_components(c1, N_COMP)\n",
    "            print(f\"Task{i}_Chunk{idx}_No EMG Component to Remove\")\n"
   ]
  },
  {
   "cell_type": "markdown",
   "metadata": {},
   "source": [
    "# Export .html file in the folder \"html\""
   ]
  },
  {
   "cell_type": "code",
   "execution_count": null,
   "metadata": {},
   "outputs": [],
   "source": [
    "# import os\n",
    "# command = 'jupyter nbconvert preprocessing_workflow.ipynb --to html --output ./html/'\n",
    "# if ouput_name == None:\n",
    "#     os.system(command+ f\"{id_name}.html\")\n",
    "# elif ouput_name == \"New\":\n",
    "#     from datetime import datetime\n",
    "#     now = datetime.now()\n",
    "#     timestamp = now.strftime(\"%Y%m%d_%H%M%S\")\n",
    "# #     os.system(command + str(id_name)+'_'+ str(timestamp)+'.html')\n",
    "#     os.system(command + f\"{id_name}_{timestamp}.html\")\n",
    "# else:\n",
    "#     os.system(command + f\"{ouput_name}.html\")"
   ]
  },
  {
   "cell_type": "code",
   "execution_count": null,
   "metadata": {},
   "outputs": [],
   "source": []
  },
  {
   "cell_type": "code",
   "execution_count": null,
   "metadata": {},
   "outputs": [],
   "source": []
  }
 ],
 "metadata": {
  "kernelspec": {
   "display_name": "Python 3",
   "language": "python",
   "name": "python3"
  },
  "language_info": {
   "codemirror_mode": {
    "name": "ipython",
    "version": 3
   },
   "file_extension": ".py",
   "mimetype": "text/x-python",
   "name": "python",
   "nbconvert_exporter": "python",
   "pygments_lexer": "ipython3",
   "version": "3.8.5"
  }
 },
 "nbformat": 4,
 "nbformat_minor": 4
}
